{
 "cells": [
  {
   "cell_type": "markdown",
   "id": "9bf0400a",
   "metadata": {},
   "source": [
    "# Python and Numpy tips for MATLAB users"
   ]
  },
  {
   "cell_type": "markdown",
   "id": "127d7c69",
   "metadata": {},
   "source": [
    "There are decent online guides to converting between MATLAB and numpy, but they mostly cover specific mathematical / statistical functions, or commands for manipulating arrays. Here I review some points that pertain to the Python vs. MATLAB idioms more generally. I expect that you're familiar with some basic Python (e.g. functions, importing modules), and that you understand in general how control flow works in code (e.g. assignments, if-statements, for-loops).\n",
    "\n",
    "For each Python feature, I provide \n",
    "\n",
    "1) an explanation of its differences with MATLAB (and usually explain why the Python way is preferred)\n",
    "\n",
    "2) some example Python code showing that feature.\n",
    "\n",
    "3) a comprehension question or exercise that will use or stretch your knowledge of the feature.\n",
    "\n",
    "4) a \"P.S.\" explaining potentially confusing parts of my example code.\n",
    "\n",
    "At the bottom, I've also included a \"lightning round\" of shorter examples! Don't miss these -- they contain hints that will speed up your code and your programming many times over!\n",
    "\n",
    "My ~~least-favorite~~ favorite part of learning Python has been discovering all the little ~~stupid quirks~~ goodies that exist within it -- the goal of the \"P.S.\" elements is to ~~save you from banging your head against the table for hours~~ introduce some of those cool features.\n",
    "\n",
    "For an online guide see:\n",
    "* https://numpy.org/doc/stable/user/numpy-for-matlab-users.html\n",
    "* "
   ]
  },
  {
   "cell_type": "markdown",
   "id": "8b9ee375",
   "metadata": {},
   "source": [
    "___"
   ]
  },
  {
   "cell_type": "markdown",
   "id": "fa939038",
   "metadata": {},
   "source": [
    "# Data Containers: (), [], and {}\n",
    "* One of the first things you'll notice about Python code is a lot of square brackets in a place where you'd normally expect parentheses in MATLAB: \n",
    "\n",
    "~~`x = some_numbers(0:10)`~~\n",
    "\n",
    "`x = some_numbers[0:10]`. \n",
    "\n",
    "* Parentheses in Python are never used for indexing; instead, they are either for calling functions (most of the time) or for creating tuples (a built-in data type). Square brackets are used for all cases of indexing. This creates a nice visual distinction that doesn't exist in MATLAB.\n",
    "    * For instance, in MATLAB, will this code call a function or return a value: `vote(10)` ? \n",
    "    * Usually MATLAB programmers use verbs for functions and nouns for matrices, so using the ambiguous `vote` is a bit of an antagonistic example, but you get the point. \n",
    "     * In Python, the answer is clear: `vote(10)` will return some value that is a \"vote\" on the number 10, whereas `vote[10]` might return a vote from index 10 in a list of votes.\n",
    "     * NB: in Python, it would still be bad practice to call either a function or a variable \"vote.\" A good function name might be `get_vote()`, and a better variable name might be `vote_list`."
   ]
  },
  {
   "cell_type": "markdown",
   "id": "d55e227b",
   "metadata": {},
   "source": [
    "___"
   ]
  },
  {
   "cell_type": "markdown",
   "id": "ff307326",
   "metadata": {},
   "source": [
    "### Example 1: lists (and functions)\n",
    "In this example, we vote on numbers: even numbers are the best and get a vote of 10. Odd numbers are bad and get a vote of 0. We store the vote results in a list. `append()` is a function that is a property of all Python lists (aka a method) that adds its argument to the list.\n",
    "\n",
    "*Q1: How many different functions (and methods) are used in this example?*"
   ]
  },
  {
   "cell_type": "code",
   "execution_count": 2,
   "id": "59371799",
   "metadata": {},
   "outputs": [
    {
     "data": {
      "text/plain": [
       "[10, 0, 10, 0, 10, 0, 10, 0, 10, 0]"
      ]
     },
     "execution_count": 2,
     "metadata": {},
     "output_type": "execute_result"
    }
   ],
   "source": [
    "def get_vote(value):\n",
    "    \"\"\"Votes on the value! Even numbers rule.\n",
    "    \"\"\"\n",
    "    if value % 2 == 0:\n",
    "        return 10\n",
    "    else:\n",
    "        return 0\n",
    "    \n",
    "vote_list = []  # a Python list\n",
    "for i in range(10):\n",
    "    vote_list.append(get_vote(i))  # in-place\n",
    "vote_list\n",
    "\n"
   ]
  },
  {
   "cell_type": "markdown",
   "id": "8077ae02",
   "metadata": {},
   "source": [
    "**PS**: note that we don't write\n",
    "\n",
    "~~`vote_list = vote_list.append(...)`~~. \n",
    "\n",
    "This is because append() works *in-place*; it modifies the list, rather than returning a list. This has to do with how lists are built under the hood and can lead to some unexpected behavior if you're unprepared for it. We will return to this later to review best practices."
   ]
  },
  {
   "cell_type": "markdown",
   "id": "29d97277",
   "metadata": {},
   "source": [
    "___"
   ]
  },
  {
   "cell_type": "markdown",
   "id": "1f21d8d3",
   "metadata": {},
   "source": [
    "### Example 2: dictionaries\n",
    "* In MATLAB, curly braces {} are used to create cell arrays. Python doesn't have a notion of cell arrays; lists are the most similar data type, as they can contain anything in each spot. An example of a list is shown in the above voting example.\n",
    "* In Python, curly braces create **dictionaries**. Dictionaries are similar to structs in MATLAB, in that they contain key/value pairs. For instance, you might have a dictionary for the grades of students in a class, where the keys are student names and the values are student grades:\n",
    "\n",
    "*Q2: dictionaries can contain other dictionaries! Modify the code below so that `student_grades` contains a dictionary of grades for many different tests (e.g. `{'SAT': 2200, 'LSAT':180}` and print out one of those grades for each student.*"
   ]
  },
  {
   "cell_type": "code",
   "execution_count": 3,
   "id": "debe029f",
   "metadata": {},
   "outputs": [
    {
     "name": "stdout",
     "output_type": "stream",
     "text": [
      "Jonah is the 0th student and has a grade of 83\n",
      "David is the 1st student and has a grade of 98\n",
      "Ella is the 2nd student and has a grade of 100\n"
     ]
    }
   ],
   "source": [
    "def to_ordinal(n):\n",
    "    \"\"\"Transforms a number into its ordinal string.\n",
    "    (A nice hack from: https://stackoverflow.com/questions/9647202/ordinal-numbers-replacement)\n",
    "    \"\"\"\n",
    "    return \"%d%s\" % (n,\"tsnrhtdd\"[(n//10%10!=1)*(n%10<4)*n%10::4])\n",
    "\n",
    "\n",
    "student_grades = {'Jonah': 83, 'David': 98, 'Ella': 100}\n",
    "for i,student in enumerate(student_grades):\n",
    "    grade = student_grades[student]\n",
    "    print(f'{student} is the {to_ordinal(i)} student and has a grade of {grade}')\n",
    "    \n",
    "    "
   ]
  },
  {
   "cell_type": "code",
   "execution_count": null,
   "id": "0e6e8964",
   "metadata": {},
   "outputs": [],
   "source": [
    "# Put your code for Q2 here!"
   ]
  },
  {
   "cell_type": "code",
   "execution_count": null,
   "id": "c9c65c4d",
   "metadata": {},
   "outputs": [],
   "source": []
  },
  {
   "cell_type": "markdown",
   "id": "96e40287",
   "metadata": {},
   "source": [
    "**PS**: in this example, you can see another use of the curly braces: *f-strings*. These are used by putting an \"f\" (for \"format\") in front of the string and enclosing any variables you want to print in braces: `f'the number is {number}'`. This is the newest / fanciest way to print strings whose values can change dynamically, i.e. based on the value of variables in the code. I use them all the time. There are only two big rules with f-strings: end with the same quotation mark you start with and do not use the same type of quotation mark inside and outside the f-string."
   ]
  },
  {
   "cell_type": "code",
   "execution_count": 4,
   "id": "ab88846f",
   "metadata": {
    "scrolled": true
   },
   "outputs": [
    {
     "ename": "SyntaxError",
     "evalue": "f-string: unmatched '[' (2937409782.py, line 1)",
     "output_type": "error",
     "traceback": [
      "\u001b[0;36m  File \u001b[0;32m\"/var/folders/x7/04jny8k55mv6gr_jtz4kh05c0000gn/T/ipykernel_73753/2937409782.py\"\u001b[0;36m, line \u001b[0;32m1\u001b[0m\n\u001b[0;31m    f'My grade is {student_grades['Jonah']}'  # fails due to interior single quote\u001b[0m\n\u001b[0m                                   ^\u001b[0m\n\u001b[0;31mSyntaxError\u001b[0m\u001b[0;31m:\u001b[0m f-string: unmatched '['\n"
     ]
    }
   ],
   "source": [
    "f'My grade is {student_grades['Jonah']}'  # fails due to interior single quote\n"
   ]
  },
  {
   "cell_type": "code",
   "execution_count": 5,
   "id": "74f972fb",
   "metadata": {
    "scrolled": true
   },
   "outputs": [
    {
     "data": {
      "text/plain": [
       "'My grade is 83'"
      ]
     },
     "execution_count": 5,
     "metadata": {},
     "output_type": "execute_result"
    }
   ],
   "source": [
    "f'My grade is {student_grades[\"Jonah\"]}'  # works\n"
   ]
  },
  {
   "cell_type": "markdown",
   "id": "b8df2ca8",
   "metadata": {},
   "source": [
    "___"
   ]
  },
  {
   "cell_type": "markdown",
   "id": "e093028f",
   "metadata": {},
   "source": [
    "# Zero-based indexing\n",
    "\n",
    "In MATLAB, indexing begins at 1: `my_array(1)` is the first number in `my_array`.\n",
    "\n",
    "In Python, not so: `my_array[1]` is the second number! The first is `my_array[0]`.\n",
    "\n",
    "The reason for this is a long and tedious historical debate, but believe me: once you get used to 0-based indexing, you'll wonder how you survived without it.\n"
   ]
  },
  {
   "cell_type": "markdown",
   "id": "7a212ef5",
   "metadata": {},
   "source": [
    "___"
   ]
  },
  {
   "cell_type": "markdown",
   "id": "30bf2659",
   "metadata": {},
   "source": [
    "### Example 3: adding values in every loop\n",
    "In this example, we add some numbers into a vector on every loop iteration. Look how clean the Python code is: it's intuitive what it's doing just from looking at the numbers.\n",
    "\n",
    "*Q3: in this example, we use `range(10)` to get 10 for-loop iterations. `range(10)` is essentially a list that contains 10 values. Python will set `i`, the iterator in the loop, equal to each value in turn. Run the code `list(range(10))` to see what those values would be -- what do you notice? Now run the code `my_vector[100]` -- what happens? Keep investigating by running little bits of code until you understand how the indexing works in this for loop. What is the maximum value  `x` for which you can run `my_vector[x]` without an error?*\n",
    "\n",
    "*Hint: if you're confused, this link may be helpful: https://www.w3schools.com/python/numpy/numpy_array_slicing.asp*"
   ]
  },
  {
   "cell_type": "code",
   "execution_count": 6,
   "id": "3d106655",
   "metadata": {},
   "outputs": [],
   "source": [
    "import numpy as np\n",
    "import matplotlib.pyplot as plt\n",
    "\n",
    "my_vector = np.zeros(shape=100)  # create a vector of 100 zeros\n",
    "for i in range(10):  # loop 10 times\n",
    "    idx = i*10\n",
    "    my_vector[idx:(idx+10)] = np.random.normal(loc=i, size=10)  # add 10 random values to my_vector\n",
    "    "
   ]
  },
  {
   "cell_type": "code",
   "execution_count": 7,
   "id": "357eb878",
   "metadata": {
    "scrolled": false
   },
   "outputs": [
    {
     "data": {
      "text/plain": [
       "[<matplotlib.lines.Line2D at 0x7fb58860fc40>]"
      ]
     },
     "execution_count": 7,
     "metadata": {},
     "output_type": "execute_result"
    },
    {
     "data": {
      "image/png": "[encoded data removed]",
      "text/plain": [
       "<Figure size 288x144 with 1 Axes>"
      ]
     },
     "metadata": {
      "needs_background": "light"
     },
     "output_type": "display_data"
    }
   ],
   "source": [
    "plt.figure(figsize=(4,2))\n",
    "plt.plot(my_vector)"
   ]
  },
  {
   "cell_type": "code",
   "execution_count": 34,
   "id": "48494449",
   "metadata": {},
   "outputs": [],
   "source": [
    "# Put the code for Q3 here!"
   ]
  },
  {
   "cell_type": "code",
   "execution_count": null,
   "id": "9c9b9089",
   "metadata": {},
   "outputs": [],
   "source": []
  },
  {
   "cell_type": "markdown",
   "id": "136a922f",
   "metadata": {},
   "source": [
    "**PS**: note that the better way to do something like this, in both MATLAB and Python, is to use a `reshape()` function: generate 100 values, then reshape into a 10x10 matrix. But `reshape()` only works when you have access to all the data at once (e.g. generating random values or reading from a list that already exists). Sometimes you'll need to read in a file, store some data into a vector, move to the next file, store its data, and so forth -- and that is the use case where zero-based indexing really shines."
   ]
  },
  {
   "cell_type": "markdown",
   "id": "e0fae6b6",
   "metadata": {},
   "source": [
    "**PPS**: \n",
    "\n",
    "If you want to compare, here's the MATLAB code for the same idea:\n",
    "\n",
    "```\n",
    "my_vector = zeros(100,1);\n",
    "for i=1:10\n",
    "    idx = (i-1)*10;\n",
    "    my_vector((idx+1):(idx+10)) = i + randn(10,1);\n",
    "end\n",
    "```\n",
    "\n",
    "What is that (i-1) term doing? And then later there's an idx+1? Huh?? This code is only clear if you're a MATLAB whiz!"
   ]
  },
  {
   "cell_type": "markdown",
   "id": "8d5597df",
   "metadata": {},
   "source": [
    "___"
   ]
  },
  {
   "cell_type": "markdown",
   "id": "369b4077",
   "metadata": {},
   "source": [
    "# Plotting data\n",
    "Plotting data is actually similar in Python and MATLAB, thanks to a package called `matplotlib` that was designed to re-create MATLAB-style plotting in Python. Matplotlib isn't \"better\" than MATLAB's plotting per se, but because it's Python, many people have built other, fancier packages on top of matplotlib, like `seaborn`, that I think are indeed much better than MATLAB."
   ]
  },
  {
   "cell_type": "markdown",
   "id": "57103384",
   "metadata": {},
   "source": [
    "___"
   ]
  },
  {
   "cell_type": "markdown",
   "id": "d991ddb8",
   "metadata": {},
   "source": [
    "### Example 4: line plots\n",
    "*Q4: the example below plots some data over time. Look up the `hist()` (histogram) function of matplotlib. Then make a histogram showing the distributions of the two datasets. Be sure that 1) you can see both datasets on the same figure (you'll need to change the transparency, or find the option that specifies not to color in the faces of the histogram bars); 2) you normalize the histograms to plot probability density instead of number of occurrences; and 3) that you include a legend and label your axes.*"
   ]
  },
  {
   "cell_type": "code",
   "execution_count": 8,
   "id": "6897830a",
   "metadata": {},
   "outputs": [
    {
     "data": {
      "text/plain": [
       "<matplotlib.legend.Legend at 0x7fb5c83279a0>"
      ]
     },
     "execution_count": 8,
     "metadata": {},
     "output_type": "execute_result"
    },
    {
     "data": {
      "image/png": "[encoded data removed]",
      "text/plain": [
       "<Figure size 432x288 with 1 Axes>"
      ]
     },
     "metadata": {
      "needs_background": "light"
     },
     "output_type": "display_data"
    }
   ],
   "source": [
    "import matplotlib.pyplot as plt\n",
    "import numpy as np\n",
    "\n",
    "# Generate some random data\n",
    "N = 2000\n",
    "time = np.arange(N)  # similar to built-in range() but returns a numpy array instead of a range() object\n",
    "data = np.random.random(size=N)\n",
    "data2 = np.random.normal(size=N)\n",
    "\n",
    "\n",
    "# Make a line plot\n",
    "plt.figure()\n",
    "plt.plot(time, data, label='uniform dist', alpha=0.5)\n",
    "plt.plot(time, data2, label='normal dist', alpha=0.5)\n",
    "plt.xlabel('Index')\n",
    "_ = plt.xticks(np.arange(0,N+1,int(N/5)))  # the _ in front is just to suppress some superfluous text output\n",
    "plt.ylabel('Value')\n",
    "plt.title('My data over time')\n",
    "plt.legend()"
   ]
  },
  {
   "cell_type": "code",
   "execution_count": null,
   "id": "0d3d7e25",
   "metadata": {},
   "outputs": [],
   "source": [
    "# Put your code for Q4 here!"
   ]
  },
  {
   "cell_type": "code",
   "execution_count": null,
   "id": "ae2fa981",
   "metadata": {},
   "outputs": [],
   "source": []
  },
  {
   "cell_type": "markdown",
   "id": "737d459e",
   "metadata": {},
   "source": [
    "**PS**: here's an example of why seaborn is so nice..."
   ]
  },
  {
   "cell_type": "code",
   "execution_count": 9,
   "id": "83d83bf7",
   "metadata": {},
   "outputs": [
    {
     "data": {
      "text/plain": [
       "<matplotlib.collections.PathCollection at 0x7fb5e918feb0>"
      ]
     },
     "execution_count": 9,
     "metadata": {},
     "output_type": "execute_result"
    },
    {
     "data": {
      "image/png": "[encoded data removed]",
      "text/plain": [
       "<Figure size 432x288 with 1 Axes>"
      ]
     },
     "metadata": {
      "needs_background": "light"
     },
     "output_type": "display_data"
    }
   ],
   "source": [
    "plt.scatter(data,data2)  # unintelligible"
   ]
  },
  {
   "cell_type": "code",
   "execution_count": 10,
   "id": "64dbaf19",
   "metadata": {
    "scrolled": false
   },
   "outputs": [
    {
     "data": {
      "text/plain": [
       "Text(27.0, 0.5, 'data2')"
      ]
     },
     "execution_count": 10,
     "metadata": {},
     "output_type": "execute_result"
    },
    {
     "data": {
      "image/png": "[encoded data removed]",
      "text/plain": [
       "<Figure size 432x432 with 3 Axes>"
      ]
     },
     "metadata": {
      "needs_background": "light"
     },
     "output_type": "display_data"
    }
   ],
   "source": [
    "from seaborn import jointplot\n",
    "jointplot(x=data, y=data2, kind='hex')  # ahhhhhh, better\n",
    "plt.xlabel('data')  # and because seaborn is secretly just matplotlib, these commands still work!\n",
    "plt.ylabel('data2')"
   ]
  },
  {
   "cell_type": "markdown",
   "id": "18e35f0e",
   "metadata": {},
   "source": [
    "___"
   ]
  },
  {
   "cell_type": "markdown",
   "id": "096ca58f",
   "metadata": {},
   "source": [
    "# Extracting sub-matrices\n",
    "Admittedly, this is a bit of a niche topic, but it's one place where I think MATLAB beats numpy -- so I want to show you the numpy trick that solves the problem.\n",
    "\n",
    "Let's say you have a 100 x 100 matrix `spike_data` where each row i is a neuron, and each column j represents its firing rate on a trial of an experiment. \n",
    "\n",
    "In MATLAB, if you wanted to extract the data from the `neuron_set` neurons and the `trial_set` trials, you would simply write: `spike_data(neuron_set, trial_set)` and you would get the matrix. For example:\n",
    "\n",
    "```\n",
    "t = reshape(1:100, 10, 10);\n",
    "t =\n",
    "\n",
    "     1    11    21    31    41    51    61    71    81    91\n",
    "     2    12    22    32    42    52    62    72    82    92\n",
    "     3    13    23    33    43    53    63    73    83    93\n",
    "     4    14    24    34    44    54    64    74    84    94\n",
    "     5    15    25    35    45    55    65    75    85    95\n",
    "     6    16    26    36    46    56    66    76    86    96\n",
    "     7    17    27    37    47    57    67    77    87    97\n",
    "     8    18    28    38    48    58    68    78    88    98\n",
    "     9    19    29    39    49    59    69    79    89    99\n",
    "    10    20    30    40    50    60    70    80    90   100\n",
    "    \n",
    "    \n",
    "neuron_set = 1:4\n",
    "trial_set = 4:7\n",
    "sub_matrix = t(neuron_set, trial_set)\n",
    "sub_matrix = \n",
    "\n",
    "    31    41    51    61\n",
    "    32    42    52    62\n",
    "    33    43    53    63\n",
    "    34    44    54    64\n",
    "```\n",
    "\n",
    "But try the same thing in numpy and it doesn't work:"
   ]
  },
  {
   "cell_type": "code",
   "execution_count": 11,
   "id": "c750535f",
   "metadata": {
    "scrolled": true
   },
   "outputs": [
    {
     "data": {
      "text/plain": [
       "array([31, 42, 53, 64])"
      ]
     },
     "execution_count": 11,
     "metadata": {},
     "output_type": "execute_result"
    }
   ],
   "source": [
    "t = np.arange(1,101).reshape(10,10, order='F')   # 'F' makes numpy do reshaping in the same column/row order that MATLAB uses\n",
    "neuron_set = [0,1,2,3]\n",
    "trial_set = [3,4,5,6]\n",
    "t[neuron_set, trial_set]"
   ]
  },
  {
   "cell_type": "markdown",
   "id": "92227da5",
   "metadata": {},
   "source": [
    "Numpy assumes that you meant you wanted the items [0,3], [1,4], [2,5], and [3,6]. If you want it to behave like MATLAB, you'll need to use \"slicing\" instead of lists:"
   ]
  },
  {
   "cell_type": "code",
   "execution_count": 12,
   "id": "265ed1b5",
   "metadata": {},
   "outputs": [
    {
     "data": {
      "text/plain": [
       "array([[31, 41, 51, 61],\n",
       "       [32, 42, 52, 62],\n",
       "       [33, 43, 53, 63],\n",
       "       [34, 44, 54, 64]])"
      ]
     },
     "execution_count": 12,
     "metadata": {},
     "output_type": "execute_result"
    }
   ],
   "source": [
    "t[0:4, 3:7]"
   ]
  },
  {
   "cell_type": "markdown",
   "id": "60fe2a7d",
   "metadata": {},
   "source": [
    "This is fine and dandy until you want to extract non-consecutive rows or columns. For example, to generate random subsets of your data on which to cross-validate a classifier! MATLAB does it fluently:\n",
    "\n",
    "```\n",
    "t([2,5,6], [3,7,8])\n",
    "ans =\n",
    "\n",
    "    22    62    72\n",
    "    25    65    75\n",
    "    26    66    76\n",
    "```\n",
    "\n",
    "But you can't do slicing irregularly like that. So instead numpy provides a special function called `ix_()` (note the underscore) to solve this problem:\n",
    "\n"
   ]
  },
  {
   "cell_type": "code",
   "execution_count": 13,
   "id": "7e5852fa",
   "metadata": {},
   "outputs": [
    {
     "data": {
      "text/plain": [
       "array([[22, 62, 72],\n",
       "       [25, 65, 75],\n",
       "       [26, 66, 76]])"
      ]
     },
     "execution_count": 13,
     "metadata": {},
     "output_type": "execute_result"
    }
   ],
   "source": [
    "t[np.ix_([1,4,5], [2,6,7])]"
   ]
  },
  {
   "cell_type": "markdown",
   "id": "66db3f5a",
   "metadata": {},
   "source": [
    "___"
   ]
  },
  {
   "cell_type": "markdown",
   "id": "352ad35e",
   "metadata": {},
   "source": [
    "### Example 5: np.where()\n",
    "Similar to the above scenario, say you have a 10 x 10 matrix `spike_data` where each row i is a neuron, and each column j represents its firing rate on a trial of an experiment. We want to extract spike data for some \"good neurons\" on some subset of trials corresponding to a particular category (say, a visual stimulus).\n",
    "\n",
    "*Q5: often, we have more than one condition by which we want to filter neurons. For example, maybe we only want to look at putative excitatory neurons, with a mean spike rate greater than some threshold, from one particular brain region. Copy and extend the example code to simulate a situation like this. Hint: there are two approaches here -- you can run np.where() on each condition and then look for overlapping indices (the Python type `set` might be helpful), or you can combine all the conditions (the function `np.logical_and()` might be helpful) and then use np.where() once at the end. Pick an approach and commit to it!*"
   ]
  },
  {
   "cell_type": "code",
   "execution_count": 14,
   "id": "2ca6f0c6",
   "metadata": {},
   "outputs": [
    {
     "data": {
      "text/plain": [
       "array([[0.18680121, 0.7180808 , 0.72250471, 0.4827253 ],\n",
       "       [0.91335811, 0.6497386 , 0.87715088, 0.0830861 ],\n",
       "       [0.17663392, 0.88235979, 0.25980068, 0.7931131 ],\n",
       "       [0.85010625, 0.65787347, 0.22019839, 0.97288827],\n",
       "       [0.15525996, 0.84618144, 0.84289824, 0.21313335],\n",
       "       [0.74466446, 0.13722587, 0.35593795, 0.75048191]])"
      ]
     },
     "execution_count": 14,
     "metadata": {},
     "output_type": "execute_result"
    }
   ],
   "source": [
    "n = 10\n",
    "\n",
    "# Generate the toy data\n",
    "data = np.random.random(size=(n,n))\n",
    "neuron_goodness = np.random.random(size=n)\n",
    "trial_categories = np.random.randint(low=0, high=3, size=n)  # again, high is exclusive, so will be 0, 1, or 2\n",
    "\n",
    "# Find good neurons\n",
    "neuron_idx = np.where(neuron_goodness > 0.5)[0]\n",
    "\n",
    "# Find desired trials\n",
    "trial_idx = np.where(trial_categories == 2)[0]\n",
    "\n",
    "# Extract the submatrix\n",
    "sub_matrix = data[np.ix_(neuron_idx, trial_idx)]\n",
    "sub_matrix"
   ]
  },
  {
   "cell_type": "code",
   "execution_count": 41,
   "id": "27029849",
   "metadata": {},
   "outputs": [],
   "source": [
    "# Put code for Q5 here!\n",
    "n = 30  # use more neurons since you'll have more conditions and hence sparser data"
   ]
  },
  {
   "cell_type": "code",
   "execution_count": null,
   "id": "3f67abe3",
   "metadata": {},
   "outputs": [],
   "source": []
  },
  {
   "cell_type": "markdown",
   "id": "4b1d358a",
   "metadata": {},
   "source": [
    "**PS**: notice the `[0]` tacked onto the end: `np.where(..)[0]`? That's because `np.where()` actually returns a tuple, where each element of the tuple contains the indices of the desired elements *for each dimension of the array*. For example:"
   ]
  },
  {
   "cell_type": "code",
   "execution_count": 15,
   "id": "5482d3e8",
   "metadata": {
    "scrolled": false
   },
   "outputs": [
    {
     "data": {
      "text/plain": [
       "(array([0, 0, 0, 0, 0, 1, 1, 1, 1, 1, 2, 2, 2, 2, 2, 3, 3, 3, 3, 3, 4, 4,\n",
       "        4, 4, 4, 5, 5, 5, 5, 5, 6, 6, 6, 6, 6, 7, 7, 7, 7, 7, 8, 8, 8, 8,\n",
       "        8, 9, 9, 9, 9, 9]),\n",
       " array([5, 6, 7, 8, 9, 5, 6, 7, 8, 9, 5, 6, 7, 8, 9, 5, 6, 7, 8, 9, 5, 6,\n",
       "        7, 8, 9, 5, 6, 7, 8, 9, 5, 6, 7, 8, 9, 5, 6, 7, 8, 9, 5, 6, 7, 8,\n",
       "        9, 5, 6, 7, 8, 9]))"
      ]
     },
     "execution_count": 15,
     "metadata": {},
     "output_type": "execute_result"
    }
   ],
   "source": [
    "idx = np.where(t>50)\n",
    "idx"
   ]
  },
  {
   "cell_type": "code",
   "execution_count": 80,
   "id": "0ba9ca05",
   "metadata": {},
   "outputs": [
    {
     "name": "stdout",
     "output_type": "stream",
     "text": [
      "<class 'tuple'>\n",
      "[0 0 0 0 0 1 1 1 1 1 2 2 2 2 2 3 3 3 3 3 4 4 4 4 4 5 5 5 5 5 6 6 6 6 6 7 7\n",
      " 7 7 7 8 8 8 8 8 9 9 9 9 9]\n",
      "[5 6 7 8 9 5 6 7 8 9 5 6 7 8 9 5 6 7 8 9 5 6 7 8 9 5 6 7 8 9 5 6 7 8 9 5 6\n",
      " 7 8 9 5 6 7 8 9 5 6 7 8 9]\n"
     ]
    }
   ],
   "source": [
    "print(type(idx))\n",
    "print(idx[0])\n",
    "print(idx[1])"
   ]
  },
  {
   "cell_type": "markdown",
   "id": "e47b7019",
   "metadata": {},
   "source": [
    "This is convenient, because it allows you to blindly pass `idx` (the tuple) back into `t` to get out the values you requested:"
   ]
  },
  {
   "cell_type": "code",
   "execution_count": 19,
   "id": "05b0aaac",
   "metadata": {
    "scrolled": true
   },
   "outputs": [
    {
     "data": {
      "text/plain": [
       "array([ 51,  61,  71,  81,  91,  52,  62,  72,  82,  92,  53,  63,  73,\n",
       "        83,  93,  54,  64,  74,  84,  94,  55,  65,  75,  85,  95,  56,\n",
       "        66,  76,  86,  96,  57,  67,  77,  87,  97,  58,  68,  78,  88,\n",
       "        98,  59,  69,  79,  89,  99,  60,  70,  80,  90, 100])"
      ]
     },
     "execution_count": 19,
     "metadata": {},
     "output_type": "execute_result"
    }
   ],
   "source": [
    "t[idx]"
   ]
  },
  {
   "cell_type": "markdown",
   "id": "26debf8f",
   "metadata": {},
   "source": [
    "Note that MATLAB's `find` will work like this if you ask it to: `[row_idx, col_idx] = find(t > 50);` \n",
    "but then the above sub-matrix indexing comes back to haunt you: `t(row_idx, col_idx)` won't return the values you think it will! \n",
    "\n",
    "This is a weird quirk of MATLAB: its functions (e.g. `find()`) return different things depending on what you put on the left side of the assignment. If you had done `idx = find(t > 50);`, then MATLAB uses \"linear indexing\" and `t(idx)` gives you what you want: the values of t larger than 50. But this inconsistency in how you can use the output of `find()` just makes the language messy and hard to remember.\n",
    "\n",
    "Instead, numpy says, `np.where()` will always return the same thing no matter what -- it's up to you to figure out how to use it. (And by the way, numpy has no concept of \"linear indexing.\")\n",
    "\n"
   ]
  },
  {
   "cell_type": "markdown",
   "id": "505b6695",
   "metadata": {},
   "source": [
    "___"
   ]
  },
  {
   "cell_type": "markdown",
   "id": "71438a17",
   "metadata": {},
   "source": [
    "# Python's `is` and `None`\n",
    "Python has a lot of fun little key-words that MATLAB doesn't have, and it's worth understanding how they work, if only because it gives you deeper insight into Python itself.\n",
    "\n",
    "Everything in Python is an object -- even functions! Objects have id's in your computer's memory, and variables are just names for a particular spot in memory. Sometimes two variables actually point to the same spot in memory; that is to say, they're actually the same object. Python's `is` operator compares the memory id of two objects, and returns `True` if they're the same. This can be useful for debugging or just double-checking that everything is working."
   ]
  },
  {
   "cell_type": "code",
   "execution_count": 20,
   "id": "68f403fa",
   "metadata": {},
   "outputs": [
    {
     "data": {
      "text/plain": [
       "True"
      ]
     },
     "execution_count": 20,
     "metadata": {},
     "output_type": "execute_result"
    }
   ],
   "source": [
    "def my_new_func():\n",
    "    return 5\n",
    "\n",
    "another_func = my_new_func\n",
    "my_new_func is another_func"
   ]
  },
  {
   "cell_type": "markdown",
   "id": "fd19bb13",
   "metadata": {},
   "source": [
    "Note that two arrays with the same values will not match ids':"
   ]
  },
  {
   "cell_type": "code",
   "execution_count": 21,
   "id": "249e6520",
   "metadata": {},
   "outputs": [
    {
     "data": {
      "text/plain": [
       "False"
      ]
     },
     "execution_count": 21,
     "metadata": {},
     "output_type": "execute_result"
    }
   ],
   "source": [
    "arr1 = np.array([1,2,3])\n",
    "arr2 = np.array([1,2,3])\n",
    "arr1 is arr2"
   ]
  },
  {
   "cell_type": "markdown",
   "id": "b3c443bb",
   "metadata": {},
   "source": [
    "(But Python does store a number of fixed objects for low integers -- so two variables that are both, say, 2, would match)"
   ]
  },
  {
   "cell_type": "code",
   "execution_count": 22,
   "id": "a8b10560",
   "metadata": {},
   "outputs": [
    {
     "data": {
      "text/plain": [
       "True"
      ]
     },
     "execution_count": 22,
     "metadata": {},
     "output_type": "execute_result"
    }
   ],
   "source": [
    "x = 2\n",
    "y = 2\n",
    "x is y "
   ]
  },
  {
   "cell_type": "code",
   "execution_count": 23,
   "id": "fda4d606",
   "metadata": {},
   "outputs": [
    {
     "data": {
      "text/plain": [
       "False"
      ]
     },
     "execution_count": 23,
     "metadata": {},
     "output_type": "execute_result"
    }
   ],
   "source": [
    "x = 345\n",
    "y = 345\n",
    "x is y"
   ]
  },
  {
   "cell_type": "markdown",
   "id": "b443d528",
   "metadata": {},
   "source": [
    "Python also has a `None` object, which has type `None`, and is used similarly to NaN, but in non-numerical contexts. For instance, if a programmer wants to specify that a default key-word argument should be empty, they will use `kwarg=None`. More on functions and key-word arguments below! (Interestingly, there is only one `None` object -- all variables assigned `None` will point to the same place in memory.)"
   ]
  },
  {
   "cell_type": "code",
   "execution_count": 24,
   "id": "cf7fdca5",
   "metadata": {},
   "outputs": [
    {
     "data": {
      "text/plain": [
       "True"
      ]
     },
     "execution_count": 24,
     "metadata": {},
     "output_type": "execute_result"
    }
   ],
   "source": [
    "x = None\n",
    "y = None\n",
    "x is None"
   ]
  },
  {
   "cell_type": "code",
   "execution_count": 25,
   "id": "0f30a96f",
   "metadata": {},
   "outputs": [
    {
     "data": {
      "text/plain": [
       "True"
      ]
     },
     "execution_count": 25,
     "metadata": {},
     "output_type": "execute_result"
    }
   ],
   "source": [
    "x is y"
   ]
  },
  {
   "cell_type": "markdown",
   "id": "98086136",
   "metadata": {},
   "source": [
    "___"
   ]
  },
  {
   "cell_type": "markdown",
   "id": "69b7b8ca",
   "metadata": {},
   "source": [
    "# Functions\n",
    "Python is broader and more flexible than MATLAB, and a chief reason for that is Python's friendly and intuitive functions.\n",
    "\n",
    "\n",
    "MATLAB defines a function like this:\n",
    "```\n",
    "function ave = average(x)\n",
    "    ave = sum(x(:))/numel(x); \n",
    "end\n",
    "```\n",
    "\n",
    "Python does it like this:\n",
    "```\n",
    "def average(x):\n",
    "    ave = np.sum(x) / np.size(x)\n",
    "    return ave\n",
    "```\n",
    "\n",
    "Both have a keyword to indicate the function: MATLAB uses `function`, Python uses `def` (for \"define\"). Both list the arguments of the function next to it: `average(x)`. But the similarities stop there!\n",
    "\n",
    "\n"
   ]
  },
  {
   "cell_type": "markdown",
   "id": "852e2fe1",
   "metadata": {},
   "source": [
    "First of all, MATLAB generally requires functions to be housed in separate files from the main script, or at the bottom of the script. In Python, you can define them in line:\n"
   ]
  },
  {
   "cell_type": "code",
   "execution_count": 26,
   "id": "c195f2e9",
   "metadata": {},
   "outputs": [
    {
     "data": {
      "text/plain": [
       "18"
      ]
     },
     "execution_count": 26,
     "metadata": {},
     "output_type": "execute_result"
    }
   ],
   "source": [
    "def new_func(val):\n",
    "    return val+10\n",
    "new_func(8)"
   ]
  },
  {
   "cell_type": "markdown",
   "id": "4c84f7c0",
   "metadata": {},
   "source": [
    "Second of all, Python functions are \"first-class objects.\" This means that unlike in MATLAB, where you can only pass functions around as \"function handles,\" in Python you can do the same thing with functions that you can with any other object: you can assign it to a variable, put it in a list, etc. More on this later."
   ]
  },
  {
   "cell_type": "markdown",
   "id": "370e4bbd",
   "metadata": {},
   "source": [
    "___"
   ]
  },
  {
   "cell_type": "markdown",
   "id": "f1ff6859",
   "metadata": {},
   "source": [
    "MATLAB isn't designed to allow users to set default arguments to their functions. (There are work-arounds which are extensively documented / debated, but none is particularly straightforward.) You might want to do this, for example, when writing data analysis functions that have a bunch of parameters, and you don't want to have to remember the correct parameters each time, let alone write them out in the code.\n",
    "\n",
    "Python provides a straightforward way to pass defaults: set the function's variable equal to that value in the defintion. That variable becomes what's called a **keyword argument** to the function. If you don't provide a key-word argument when you call the function, the variable takes on its default value; otherwise, it takes the value you provided."
   ]
  },
  {
   "cell_type": "markdown",
   "id": "5d23e44d",
   "metadata": {},
   "source": [
    "### Example 6: default keyword arguments\n",
    "For example, here's a function I wrote to interpolate some data sampled at irregular intervals into data sampled at regular intervals. The variable `fs_interpd` is the desired interpolated sampling frequency in Hz; I decided that I wanted to use 200 Hz most of the time, but I wanted to be able to change it at will occasionally, so that I could use the function out of context.\n",
    "\n",
    "*Q6: in jupyter notebooks, you can use the \"?\" operator on a function to see informaiton about it. For example, `interp_continuous?`. Use this to inspect the default keyword arguments for `plt.plot` and `np.max`. What does each keyword mean (you may have to look up the docs online)?*"
   ]
  },
  {
   "cell_type": "code",
   "execution_count": 27,
   "id": "21f5cbd9",
   "metadata": {},
   "outputs": [],
   "source": [
    "from scipy.interpolate import interp1d\n",
    "\n",
    "def interp_continuous(old_times, old_data, fs=200):\n",
    "    f = interp1d(old_times, old_data)\n",
    "    new_times = np.arange(np.min(old_times), np.max(old_times), 1/fs)\n",
    "    new_data = f(new_times)\n",
    "    return new_times, new_data"
   ]
  },
  {
   "cell_type": "code",
   "execution_count": 32,
   "id": "29a10700",
   "metadata": {},
   "outputs": [
    {
     "data": {
      "text/plain": [
       "array([1.  , 1.25, 1.5 , 1.75])"
      ]
     },
     "execution_count": 32,
     "metadata": {},
     "output_type": "execute_result"
    }
   ],
   "source": [
    "times = np.array([1,2])\n",
    "data = np.array([1,2])\n",
    "new_times, new_data = interp_continuous(times, data, fs=4)\n",
    "new_data"
   ]
  },
  {
   "cell_type": "code",
   "execution_count": 30,
   "id": "19c83766",
   "metadata": {
    "scrolled": false
   },
   "outputs": [
    {
     "data": {
      "text/plain": [
       "array([1.   , 1.005, 1.01 , 1.015, 1.02 , 1.025, 1.03 , 1.035, 1.04 ,\n",
       "       1.045, 1.05 , 1.055, 1.06 , 1.065, 1.07 , 1.075, 1.08 , 1.085,\n",
       "       1.09 , 1.095, 1.1  , 1.105, 1.11 , 1.115, 1.12 , 1.125, 1.13 ,\n",
       "       1.135, 1.14 , 1.145, 1.15 , 1.155, 1.16 , 1.165, 1.17 , 1.175,\n",
       "       1.18 , 1.185, 1.19 , 1.195, 1.2  , 1.205, 1.21 , 1.215, 1.22 ,\n",
       "       1.225, 1.23 , 1.235, 1.24 , 1.245, 1.25 , 1.255, 1.26 , 1.265,\n",
       "       1.27 , 1.275, 1.28 , 1.285, 1.29 , 1.295, 1.3  , 1.305, 1.31 ,\n",
       "       1.315, 1.32 , 1.325, 1.33 , 1.335, 1.34 , 1.345, 1.35 , 1.355,\n",
       "       1.36 , 1.365, 1.37 , 1.375, 1.38 , 1.385, 1.39 , 1.395, 1.4  ,\n",
       "       1.405, 1.41 , 1.415, 1.42 , 1.425, 1.43 , 1.435, 1.44 , 1.445,\n",
       "       1.45 , 1.455, 1.46 , 1.465, 1.47 , 1.475, 1.48 , 1.485, 1.49 ,\n",
       "       1.495, 1.5  , 1.505, 1.51 , 1.515, 1.52 , 1.525, 1.53 , 1.535,\n",
       "       1.54 , 1.545, 1.55 , 1.555, 1.56 , 1.565, 1.57 , 1.575, 1.58 ,\n",
       "       1.585, 1.59 , 1.595, 1.6  , 1.605, 1.61 , 1.615, 1.62 , 1.625,\n",
       "       1.63 , 1.635, 1.64 , 1.645, 1.65 , 1.655, 1.66 , 1.665, 1.67 ,\n",
       "       1.675, 1.68 , 1.685, 1.69 , 1.695, 1.7  , 1.705, 1.71 , 1.715,\n",
       "       1.72 , 1.725, 1.73 , 1.735, 1.74 , 1.745, 1.75 , 1.755, 1.76 ,\n",
       "       1.765, 1.77 , 1.775, 1.78 , 1.785, 1.79 , 1.795, 1.8  , 1.805,\n",
       "       1.81 , 1.815, 1.82 , 1.825, 1.83 , 1.835, 1.84 , 1.845, 1.85 ,\n",
       "       1.855, 1.86 , 1.865, 1.87 , 1.875, 1.88 , 1.885, 1.89 , 1.895,\n",
       "       1.9  , 1.905, 1.91 , 1.915, 1.92 , 1.925, 1.93 , 1.935, 1.94 ,\n",
       "       1.945, 1.95 , 1.955, 1.96 , 1.965, 1.97 , 1.975, 1.98 , 1.985,\n",
       "       1.99 , 1.995])"
      ]
     },
     "execution_count": 30,
     "metadata": {},
     "output_type": "execute_result"
    }
   ],
   "source": [
    "new_times, new_data = interp_continuous(times, data)  # fs is implicitly 200\n",
    "new_data"
   ]
  },
  {
   "cell_type": "markdown",
   "id": "9f4e59c6",
   "metadata": {},
   "source": [
    "**PS**: notice how the variable `f` in the example above is actually used as a function? This is possible because Python functions are just like any other Python object -- you can move them around, store them in lists, etc. `scipy.interpolate.interp1d()` actually *returns a new function* that will accept x-values and spit out y-values based on old_times and old_data! Most scientific computing in Python (e.g. with sk-learn) will use object oriented approaches to avoid having to pass functions around like this (e.g. `model=NewModel(); model.train(data); categories=model.predict(new_data)`) but Scipy's approach works well here since the interpolating function doesn't have much meta-data (e.g. cross-validated accuracy, likelihood, hyperparameters...) associated with it."
   ]
  },
  {
   "cell_type": "markdown",
   "id": "f3df35c5",
   "metadata": {},
   "source": [
    "___"
   ]
  },
  {
   "cell_type": "markdown",
   "id": "b827d6f0",
   "metadata": {},
   "source": [
    "### Example 7: controlling program flow with default keywords\n",
    "Default arguments make it very easy to control program flow. For instance, say you write a function that plots some data. Sometimes you want to just want the program to make the plot and save it, without showing it; other times you want to show it to the user. You can use default keyword arguments to easily implement this."
   ]
  },
  {
   "cell_type": "code",
   "execution_count": 66,
   "id": "8653cefc",
   "metadata": {},
   "outputs": [],
   "source": [
    "def my_plotting_func(time, data, save_fig=False):\n",
    "    \n",
    "    if save_fig:  # i.e., if save_fig has a value of True\n",
    "        plt.plot(time, data)\n",
    "        plt.savefig('my_fig.png')\n",
    "        plt.close()\n",
    "    else:\n",
    "        plt.plot(time,data)"
   ]
  },
  {
   "cell_type": "code",
   "execution_count": 68,
   "id": "6801b6cb",
   "metadata": {},
   "outputs": [
    {
     "data": {
      "image/png": "[encoded data removed]",
      "text/plain": [
       "<Figure size 432x288 with 1 Axes>"
      ]
     },
     "metadata": {
      "needs_background": "light"
     },
     "output_type": "display_data"
    }
   ],
   "source": [
    "my_plotting_func(np.arange(10), np.random.random(10))"
   ]
  },
  {
   "cell_type": "code",
   "execution_count": 69,
   "id": "3724353a",
   "metadata": {},
   "outputs": [],
   "source": [
    "my_plotting_func(np.arange(10), np.random.random(10), save_fig=True)  # should show up in your current folder"
   ]
  },
  {
   "cell_type": "markdown",
   "id": "98a1c165",
   "metadata": {},
   "source": [
    "**PS**: be careful to never use an empty list as a default function argument! For example, don't do ~~`def reverse_list(old_list, new_list=[])`~~. See detailed explanation here: https://florimond.dev/en/posts/2018/08/python-mutable-defaults-are-the-source-of-all-evil/."
   ]
  },
  {
   "cell_type": "markdown",
   "id": "bc5734b7",
   "metadata": {},
   "source": [
    "___"
   ]
  },
  {
   "cell_type": "markdown",
   "id": "9b3e2bcf",
   "metadata": {},
   "source": [
    "Python functions, being objects, can do all the same things any other object can do. You can assign a variable to represent a function; you can pass functions as arguments to functions; or you can return functions from other functions. MATLAB does support this functionality, but in a rather obtuse and awkward way -- Python is designed to do this all day.\n",
    "\n",
    "Why would we want to pass around functions as objects?\n",
    "\n",
    "1) Some functions return other functions that can then be used later on. For example, the scipy interpolation functions work by first fitting an interpolating function to existing data, and then having the user call that function on some new data to be interpolated. You can see that in action in example 6.\n",
    "\n",
    "2) A classic example of a function that takes a function as an argument is a function that computes definite integrals. The user defines a function `f(x)`, and passes that into some integral function, `definite_integral = integral(f, lower_bound, upper_bound)`.\n",
    "\n",
    "3) Sometimes you want to define a function with some of its arguments already filled in. You can do this with the function `partial` from the library `functools`. For example, from the Python docs: `basetwo = partial(int, base=2)`, and then `basetwo('10010')` --> 18.\n"
   ]
  },
  {
   "cell_type": "markdown",
   "id": "fc826130",
   "metadata": {},
   "source": [
    "### Example 8: defining a custom legend function in matplotlib\n",
    "I often make categorical plots, and want the legend to be similarly categorical. Matplotlib doesn't handle this very well. You can either assign a label to each line (not a viable solution after ~5 lines) or you can create your own custom legend.\n",
    "\n",
    "Here's the worst case:"
   ]
  },
  {
   "cell_type": "code",
   "execution_count": 81,
   "id": "620780a3",
   "metadata": {},
   "outputs": [],
   "source": [
    "import numpy as np\n",
    "import matplotlib.pyplot as plt\n",
    "\n",
    "x = np.arange(0, 2*np.pi, 0.1)\n",
    "colors_by_category = {0:'red', 1:'blue'}"
   ]
  },
  {
   "cell_type": "code",
   "execution_count": 82,
   "id": "2feb1455",
   "metadata": {},
   "outputs": [
    {
     "data": {
      "text/plain": [
       "<matplotlib.legend.Legend at 0x7fb5aa2f90d0>"
      ]
     },
     "execution_count": 82,
     "metadata": {},
     "output_type": "execute_result"
    },
    {
     "data": {
      "image/png": "[encoded data removed]",
      "text/plain": [
       "<Figure size 432x288 with 1 Axes>"
      ]
     },
     "metadata": {
      "needs_background": "light"
     },
     "output_type": "display_data"
    }
   ],
   "source": [
    "plt.figure()\n",
    "for i in range(6):\n",
    "    y = i*np.sin(x+(np.pi/8)*i)\n",
    "    category = int(np.random.random(1)>0.5)\n",
    "    plt.plot(x,y, color=colors_by_category[category], label=colors_by_category[category])\n",
    "plt.legend()\n"
   ]
  },
  {
   "cell_type": "markdown",
   "id": "7c15f19d",
   "metadata": {},
   "source": [
    "Here is the better way:"
   ]
  },
  {
   "cell_type": "code",
   "execution_count": 85,
   "id": "6441a26e",
   "metadata": {},
   "outputs": [
    {
     "data": {
      "text/plain": [
       "<matplotlib.legend.Legend at 0x7fb5886573d0>"
      ]
     },
     "execution_count": 85,
     "metadata": {},
     "output_type": "execute_result"
    },
    {
     "data": {
      "image/png": "[encoded data removed]",
      "text/plain": [
       "<Figure size 432x288 with 1 Axes>"
      ]
     },
     "metadata": {
      "needs_background": "light"
     },
     "output_type": "display_data"
    }
   ],
   "source": [
    "from matplotlib.lines import Line2D\n",
    "\n",
    "plt.figure()\n",
    "for i in range(6):\n",
    "    y = i*np.sin(x+(np.pi/8)*i)\n",
    "    category = int(np.random.random(1)>0.5)\n",
    "    plt.plot(x,y, color=colors_by_category[category])\n",
    "    \n",
    "# Now make a legend with Line2D objects whose x and y values are just a point (0,0), but whose colors / names are what we want\n",
    "plt.legend(handles=[Line2D([0], \n",
    "                           [0],\n",
    "                           marker='o',\n",
    "                           color='w',\n",
    "                           label=f'Category {key}',\n",
    "                           markerfacecolor=colors_by_category[key],\n",
    "                           markersize=10)\n",
    "                    for key in colors_by_category.keys()],\n",
    "          fontsize=12,\n",
    "          loc='lower left')\n"
   ]
  },
  {
   "cell_type": "markdown",
   "id": "ee710dd8",
   "metadata": {},
   "source": [
    "... but who wants to remember that whole mess of code every time?? Instead, let's just write a quick nested function!"
   ]
  },
  {
   "cell_type": "code",
   "execution_count": 115,
   "id": "1d0af68e",
   "metadata": {},
   "outputs": [],
   "source": [
    "def categorical_legend(colors_by_category):\n",
    "    line_list = []\n",
    "    for key in colors_by_category.keys():\n",
    "        line_list.append(Line2D([0], [0], marker='o', color='w', label=f'Category {key}', \n",
    "                                markerfacecolor=colors_by_category[key], markersize=10))\n",
    "    plt.legend(handles=line_list, fontsize=12, loc='lower left')\n",
    "    "
   ]
  },
  {
   "cell_type": "code",
   "execution_count": 116,
   "id": "2e623d09",
   "metadata": {},
   "outputs": [
    {
     "data": {
      "image/png": "[encoded data removed]",
      "text/plain": [
       "<Figure size 432x288 with 1 Axes>"
      ]
     },
     "metadata": {
      "needs_background": "light"
     },
     "output_type": "display_data"
    }
   ],
   "source": [
    "x = np.arange(0, 2*np.pi, 0.1)\n",
    "colors_by_category = {0:'red', 1:'blue'}\n",
    "plt.figure()\n",
    "for i in range(6):\n",
    "    y = i*np.sin(x+(np.pi/8)*i)\n",
    "    category = int(np.random.random(1)>0.5)\n",
    "    plt.plot(x,y, color=colors_by_category[category], label=colors_by_category[category])\n",
    "categorical_legend(colors_by_category)"
   ]
  },
  {
   "cell_type": "markdown",
   "id": "dca54ba2",
   "metadata": {},
   "source": [
    "# Lightning Round"
   ]
  },
  {
   "cell_type": "markdown",
   "id": "7043f10e",
   "metadata": {},
   "source": [
    "## Sets are your friend for fast look-ups"
   ]
  },
  {
   "cell_type": "code",
   "execution_count": 90,
   "id": "b8c40dc1",
   "metadata": {},
   "outputs": [
    {
     "data": {
      "text/plain": [
       "{'a', 'b', 'c', 'x', 'y', 'z'}"
      ]
     },
     "execution_count": 90,
     "metadata": {},
     "output_type": "execute_result"
    }
   ],
   "source": [
    "letters = set(['a', 'b', 'c'])\n",
    "more_letters = set(['a','b','c','x','y','z'])\n",
    "letters | more_letters  # eg, union of the sets"
   ]
  },
  {
   "cell_type": "code",
   "execution_count": 91,
   "id": "fad83ef2",
   "metadata": {},
   "outputs": [],
   "source": [
    "ints = list(range(int(1e7))) # all the integers from 0 - 10,000,000\n",
    "set_of_ints = set(ints)"
   ]
  },
  {
   "cell_type": "code",
   "execution_count": 92,
   "id": "a3bf57f5",
   "metadata": {
    "scrolled": true
   },
   "outputs": [
    {
     "name": "stdout",
     "output_type": "stream",
     "text": [
      "89.8 ms ± 132 µs per loop (mean ± std. dev. of 7 runs, 10 loops each)\n"
     ]
    }
   ],
   "source": [
    "%%timeit\n",
    "7542342 in ints"
   ]
  },
  {
   "cell_type": "code",
   "execution_count": 93,
   "id": "6de3f54b",
   "metadata": {
    "scrolled": true
   },
   "outputs": [
    {
     "name": "stdout",
     "output_type": "stream",
     "text": [
      "50.7 ns ± 0.0335 ns per loop (mean ± std. dev. of 7 runs, 10000000 loops each)\n"
     ]
    }
   ],
   "source": [
    "%%timeit\n",
    "7542342 in set_of_ints  # roughly half a million times faster!"
   ]
  },
  {
   "cell_type": "markdown",
   "id": "be885b09",
   "metadata": {},
   "source": [
    "## Enumerate is so great"
   ]
  },
  {
   "cell_type": "code",
   "execution_count": 96,
   "id": "53ed5549",
   "metadata": {},
   "outputs": [
    {
     "name": "stdout",
     "output_type": "stream",
     "text": [
      "0\n",
      "10\n",
      "1\n",
      "20\n",
      "2\n",
      "30\n"
     ]
    }
   ],
   "source": [
    "my_data = np.array([10,20,30])\n",
    "for i,data in enumerate(my_data):\n",
    "    print(i)\n",
    "    print(data)"
   ]
  },
  {
   "cell_type": "markdown",
   "id": "279764d2",
   "metadata": {},
   "source": [
    "## Fast raster plots (or, Bisect is your friend for time windows)"
   ]
  },
  {
   "cell_type": "code",
   "execution_count": 98,
   "id": "5d04a3c6",
   "metadata": {},
   "outputs": [],
   "source": [
    "import bisect\n",
    "import numpy as np\n",
    "import matplotlib.pyplot as plt"
   ]
  },
  {
   "cell_type": "code",
   "execution_count": 99,
   "id": "f52221f3",
   "metadata": {},
   "outputs": [
    {
     "name": "stdout",
     "output_type": "stream",
     "text": [
      "0\n",
      "1\n",
      "4\n"
     ]
    }
   ],
   "source": [
    "# bisect.bisect_left(array, value) returns the index of array where you'd have to insert value to keep array sorted\n",
    "print(bisect.bisect_left([1,2,3,4], 0))\n",
    "print(bisect.bisect_left([1,2,3,4], 2))\n",
    "print(bisect.bisect_left([1,2,3,4], 10))"
   ]
  },
  {
   "cell_type": "code",
   "execution_count": 100,
   "id": "0e8068ec",
   "metadata": {},
   "outputs": [
    {
     "name": "stdout",
     "output_type": "stream",
     "text": [
      "[0.07222882 0.09882848 0.11038599 0.1532765  0.22898702 0.28693095\n",
      " 0.42877461 0.48163253 0.5800329  0.68044652]\n"
     ]
    }
   ],
   "source": [
    "# Let's simulate some spike data and show how to use bisect_left to generate rasters quickly\n",
    "\n",
    "session_len = 3600  # one hour\n",
    "n_spikes = session_len * 10   # eg 10 Hz avg firing rate\n",
    "\n",
    "times = np.arange(0,session_len,0.1) \n",
    "spike_times = np.random.random(n_spikes)*3600  # uniform spikes between start and end of session\n",
    "spike_times = np.sort(spike_times)\n",
    "print(spike_times[0:10])"
   ]
  },
  {
   "cell_type": "code",
   "execution_count": 35,
   "id": "88173b55",
   "metadata": {},
   "outputs": [
    {
     "data": {
      "image/png": "[encoded data removed]",
      "text/plain": [
       "<Figure size 432x288 with 1 Axes>"
      ]
     },
     "metadata": {
      "needs_background": "light"
     },
     "output_type": "display_data"
    }
   ],
   "source": [
    "# verify we've got some spikes across the whole session\n",
    "_ = plt.hist(spike_times)\n",
    "_ = plt.xlabel('Spike times')\n",
    "_ = plt.ylabel('Num spikes in bin')"
   ]
  },
  {
   "cell_type": "code",
   "execution_count": 102,
   "id": "e7cb9014",
   "metadata": {},
   "outputs": [],
   "source": [
    "# Make some fake trials and pick a time window to plot rasters around trial start times\n",
    "trial_starts = [0,25,50,75]\n",
    "trial_window = (-1,1) "
   ]
  },
  {
   "cell_type": "code",
   "execution_count": 110,
   "id": "dfdbc18c",
   "metadata": {},
   "outputs": [],
   "source": [
    "%%timeit\n",
    "# using greater-than and less-than conditions to find spikes within the time window\n",
    "aligned_spike_times = []\n",
    "for start in trial_starts:\n",
    "    this_trial_spikes = []\n",
    "    window_back = start + trial_window[0]\n",
    "    window_front = start + trial_window[1]\n",
    "    for spike_time in spike_times:\n",
    "        if (spike_time < window_front) and (spike_time > window_back):\n",
    "            this_trial_spikes.append(spike_time - start)\n",
    "    aligned_spike_times.append(this_trial_spikes)"
   ]
  },
  {
   "cell_type": "code",
   "execution_count": 114,
   "id": "f4e4d240",
   "metadata": {},
   "outputs": [],
   "source": [
    "# %%timeit\n",
    "# using bisect_left to find spikes within the time window (about 1000x faster!)\n",
    "bisect_aligned_spike_times = []\n",
    "for start in trial_starts:\n",
    "    this_trial_spikes = []\n",
    "    window_back = start + trial_window[0]\n",
    "    window_front = start + trial_window[1]\n",
    "    back_idx = bisect.bisect_left(spike_times, window_back)\n",
    "    front_idx = bisect.bisect_left(spike_times, window_front)\n",
    "    bisect_aligned_spike_times.append(spike_times[back_idx:front_idx]-start)"
   ]
  },
  {
   "cell_type": "markdown",
   "id": "65a16b23",
   "metadata": {},
   "source": [
    "#### Go back and comment out the %%timeit lines in each cell, and run them again before plotting\n",
    "(%%timeit runs in its own little bubble so the changes to variables don't get saved)"
   ]
  },
  {
   "cell_type": "code",
   "execution_count": 112,
   "id": "a129a1f7",
   "metadata": {
    "scrolled": true
   },
   "outputs": [
    {
     "data": {
      "text/plain": [
       "[<matplotlib.collections.EventCollection at 0x7fb54ce3e670>,\n",
       " <matplotlib.collections.EventCollection at 0x7fb54ce3eca0>,\n",
       " <matplotlib.collections.EventCollection at 0x7fb54ce4f3d0>,\n",
       " <matplotlib.collections.EventCollection at 0x7fb54ce4fa00>]"
      ]
     },
     "execution_count": 112,
     "metadata": {},
     "output_type": "execute_result"
    },
    {
     "data": {
      "image/png": "[encoded data removed]",
      "text/plain": [
       "<Figure size 432x288 with 1 Axes>"
      ]
     },
     "metadata": {
      "needs_background": "light"
     },
     "output_type": "display_data"
    }
   ],
   "source": [
    "# Show that the two rasters are identical\n",
    "plt.eventplot(aligned_spike_times)"
   ]
  },
  {
   "cell_type": "code",
   "execution_count": 115,
   "id": "12d00365",
   "metadata": {
    "scrolled": true
   },
   "outputs": [
    {
     "data": {
      "text/plain": [
       "[<matplotlib.collections.EventCollection at 0x7fb5c840e940>,\n",
       " <matplotlib.collections.EventCollection at 0x7fb5c840efa0>,\n",
       " <matplotlib.collections.EventCollection at 0x7fb5c841f640>,\n",
       " <matplotlib.collections.EventCollection at 0x7fb5c841fd00>]"
      ]
     },
     "execution_count": 115,
     "metadata": {},
     "output_type": "execute_result"
    },
    {
     "data": {
      "image/png": "[encoded data removed]",
      "text/plain": [
       "<Figure size 432x288 with 1 Axes>"
      ]
     },
     "metadata": {
      "needs_background": "light"
     },
     "output_type": "display_data"
    }
   ],
   "source": [
    "plt.eventplot(bisect_aligned_spike_times)"
   ]
  },
  {
   "cell_type": "markdown",
   "id": "cf390a49",
   "metadata": {},
   "source": [
    "## Generators and functional programming\n",
    "\n",
    "Haven't you ever thought, good lord, I'd really like to write fewer for-loops? With generators, now you can!"
   ]
  },
  {
   "cell_type": "code",
   "execution_count": 117,
   "id": "a83491fc",
   "metadata": {},
   "outputs": [],
   "source": [
    "subjects = ['X', 'Y']\n",
    "test_sessions = {'X': ['211120', '211121'],\n",
    "                'Y': ['211120', '211123']}"
   ]
  },
  {
   "cell_type": "code",
   "execution_count": 118,
   "id": "dd45582c",
   "metadata": {},
   "outputs": [
    {
     "name": "stdout",
     "output_type": "stream",
     "text": [
      "read file from subject X session 211120...\n",
      "do analysis one...\n",
      "read file from subject X session 211121...\n",
      "do analysis one...\n",
      "read file from subject Y session 211120...\n",
      "do analysis one...\n",
      "read file from subject Y session 211123...\n",
      "do analysis one...\n",
      "read file from subject X session 211120...\n",
      "do analysis two...\n",
      "read file from subject X session 211121...\n",
      "do analysis two...\n",
      "read file from subject Y session 211120...\n",
      "do analysis two...\n",
      "read file from subject Y session 211123...\n",
      "do analysis two...\n"
     ]
    }
   ],
   "source": [
    "# the old way...\n",
    "for subject in subjects:\n",
    "    for session in test_sessions[subject]:\n",
    "            print(f'read file from subject {subject} session {session}...')\n",
    "            print('do analysis one...')\n",
    "\n",
    "for subject in subjects:\n",
    "    for session in test_sessions[subject]:\n",
    "            print(f'read file from subject {subject} session {session}...')\n",
    "            print('do analysis two...')\n",
    "            "
   ]
  },
  {
   "cell_type": "code",
   "execution_count": 120,
   "id": "ece6bcef",
   "metadata": {},
   "outputs": [
    {
     "name": "stdout",
     "output_type": "stream",
     "text": [
      "read file from subject X session 211120...\n",
      "data_analyzed_1\n",
      "data_analyzed_2\n",
      "read file from subject X session 211121...\n",
      "data_analyzed_1\n",
      "data_analyzed_2\n",
      "read file from subject Y session 211120...\n",
      "data_analyzed_1\n",
      "data_analyzed_2\n",
      "read file from subject Y session 211123...\n",
      "data_analyzed_1\n",
      "data_analyzed_2\n"
     ]
    }
   ],
   "source": [
    "# writing separate functions for loading and analysis is better...but the for loops are still there.\n",
    "def load_data(subject, session):\n",
    "    print(f'read file from subject {subject} session {session}...')\n",
    "    return 'data'\n",
    "\n",
    "def do_analyis(data, analysis_num):\n",
    "    return data + f'_analyzed_{analysis_num}'\n",
    "\n",
    "for subject in subjects:\n",
    "    for session in test_sessions[subject]:\n",
    "            data = load_data(subject,session)\n",
    "            analysis = do_analyis(data, 1)\n",
    "            print(analysis)  \n",
    "            analysis = do_analyis(data, 2)\n",
    "            print(analysis)  \n",
    "            "
   ]
  },
  {
   "cell_type": "markdown",
   "id": "b0a80e2e",
   "metadata": {},
   "source": [
    "Aha! Now we use a generator function `readfiles()` to `yield` the loaded data for each subject. The for loop lives within this generator function, so we only have to write it once. Now, no matter how many for-loops it takes to load in the unit of data that we need, we only need one for-loop in the main part, `for data in datafiles:`. For a great explanation of `yield` and generators, see here: https://stackoverflow.com/questions/231767/what-does-the-yield-keyword-do\n"
   ]
  },
  {
   "cell_type": "code",
   "execution_count": 124,
   "id": "33b05cc1",
   "metadata": {
    "scrolled": true
   },
   "outputs": [
    {
     "name": "stdout",
     "output_type": "stream",
     "text": [
      "read file from subject X session 211120...\n",
      "data_analyzed_1\n",
      "read file from subject X session 211121...\n",
      "data_analyzed_1\n",
      "read file from subject Y session 211120...\n",
      "data_analyzed_1\n",
      "read file from subject Y session 211123...\n",
      "data_analyzed_1\n",
      "Moving to analysis 2...\n",
      "\n",
      "\n",
      "read file from subject X session 211120...\n",
      "data_analyzed_2\n",
      "read file from subject X session 211121...\n",
      "data_analyzed_2\n",
      "read file from subject Y session 211120...\n",
      "data_analyzed_2\n",
      "read file from subject Y session 211123...\n",
      "data_analyzed_2\n"
     ]
    }
   ],
   "source": [
    "def readfiles(subjects, test_sessions):\n",
    "    for subject in subjects:\n",
    "        for session in test_sessions[subject]:\n",
    "            yield load_data(subject,session)\n",
    "\n",
    "datafiles = readfiles(subjects, test_sessions)\n",
    "for data in datafiles:\n",
    "    analysis = do_analyis(data, 1)\n",
    "    print(analysis)  \n",
    "\n",
    "print('Moving to analysis 2...')\n",
    "print ('\\n')\n",
    "\n",
    "datafiles = readfiles(subjects, test_sessions)\n",
    "for data in datafiles:\n",
    "    analysis = do_analyis(data, 2)\n",
    "    print(analysis)  \n"
   ]
  },
  {
   "cell_type": "markdown",
   "id": "016fbc93",
   "metadata": {},
   "source": [
    "I'll admit that this isn't so shiny on its own. But maybe you're running an analysis with more layers: for each subject, for each session, for each imaging ROI, for each stimulus...converting your code from 4 to 1 nested for-loop is a huge time saver and makes everything easier to read and troubleshoot. \n"
   ]
  },
  {
   "cell_type": "markdown",
   "id": "de7d6fc5",
   "metadata": {},
   "source": [
    "## Making a list of balanced, randomized trials for a task (or, we <3 itertools)\n",
    "We're setting up trials for an experiment where there are three stimuli presented to an animal at different latencies from it's inhalations. We want to randomize and balance conditions across each session. Making such a list is painful if you have to write it out yourself...the library `itertools` provides a function called `product` that will automatically create all the combinations of conditions for us!"
   ]
  },
  {
   "cell_type": "code",
   "execution_count": 131,
   "id": "031e5b2a",
   "metadata": {},
   "outputs": [],
   "source": [
    "import itertools as it\n",
    "import numpy as np\n",
    "import random"
   ]
  },
  {
   "cell_type": "code",
   "execution_count": 137,
   "id": "65b9aff1",
   "metadata": {
    "scrolled": false
   },
   "outputs": [
    {
     "data": {
      "text/plain": [
       "[('C', 5),\n",
       " ('C', 1),\n",
       " ('A', 5),\n",
       " ('C', 1),\n",
       " ('C', 10),\n",
       " ('A', 10),\n",
       " ('A', 1),\n",
       " ('B', 10),\n",
       " ('C', 10),\n",
       " ('A', 5),\n",
       " ('A', 5),\n",
       " ('A', 10),\n",
       " ('B', 10),\n",
       " ('B', 10),\n",
       " ('A', 10),\n",
       " ('C', 5),\n",
       " ('B', 5),\n",
       " ('B', 1),\n",
       " ('C', 10),\n",
       " ('B', 5),\n",
       " ('B', 1),\n",
       " ('B', 1),\n",
       " ('A', 1),\n",
       " ('B', 1),\n",
       " ('A', 5),\n",
       " ('B', 10),\n",
       " ('B', 5),\n",
       " ('C', 10),\n",
       " ('C', 1),\n",
       " ('B', 5),\n",
       " ('C', 5),\n",
       " ('C', 1),\n",
       " ('A', 1),\n",
       " ('A', 1),\n",
       " ('C', 5),\n",
       " ('A', 10)]"
      ]
     },
     "execution_count": 137,
     "metadata": {},
     "output_type": "execute_result"
    }
   ],
   "source": [
    "# Without itertools...nested for loops for each attribute...ugh\n",
    "\n",
    "conditions = ['A', 'B', 'C']\n",
    "latencies = [1,5,10]\n",
    "num_repeats_per_combo = 4\n",
    "\n",
    "num_total_trials = len(conditions)*len(latencies)*num_repeats_per_combo\n",
    "trials = [0 for _ in range(num_total_trials)]  # pre-make the list so we can put each trial in at a random spot\n",
    "indices = list(range(num_total_trials))\n",
    "\n",
    "for i in range(num_repeats_per_combo):\n",
    "    for j in range(len(conditions)):\n",
    "        for k in range(len(latencies)):\n",
    "            idx = random.randint(0, len(indices)-1)  # stop val is inclusive? hmm\n",
    "            trials[indices.pop(idx)] = (conditions[j],latencies[k])\n",
    "trials"
   ]
  },
  {
   "cell_type": "code",
   "execution_count": 136,
   "id": "1807e90f",
   "metadata": {},
   "outputs": [
    {
     "data": {
      "text/plain": [
       "[('A', 1),\n",
       " ('C', 10),\n",
       " ('A', 10),\n",
       " ('A', 5),\n",
       " ('A', 10),\n",
       " ('C', 10),\n",
       " ('A', 5),\n",
       " ('B', 10),\n",
       " ('A', 1),\n",
       " ('C', 10),\n",
       " ('B', 5),\n",
       " ('B', 5),\n",
       " ('A', 10),\n",
       " ('B', 5),\n",
       " ('A', 1),\n",
       " ('A', 5),\n",
       " ('B', 10),\n",
       " ('C', 1),\n",
       " ('C', 1),\n",
       " ('B', 1),\n",
       " ('C', 1),\n",
       " ('B', 1),\n",
       " ('B', 1),\n",
       " ('C', 1),\n",
       " ('C', 5),\n",
       " ('B', 1),\n",
       " ('A', 5),\n",
       " ('C', 5),\n",
       " ('C', 10),\n",
       " ('A', 10),\n",
       " ('C', 5),\n",
       " ('A', 1),\n",
       " ('B', 10),\n",
       " ('B', 10),\n",
       " ('B', 5),\n",
       " ('C', 5)]"
      ]
     },
     "execution_count": 136,
     "metadata": {},
     "output_type": "execute_result"
    }
   ],
   "source": [
    "# With itertools <3\n",
    "conditions = ['A', 'B', 'C']\n",
    "latencies = [1,5,10]\n",
    "num_repeats_per_combo = 4\n",
    "trial_vals = it.product(conditions, latencies)\n",
    "trials = [(cond,lat) for (cond,lat) in trial_vals] * num_repeats_per_combo\n",
    "# trials = random.shuffle(trials)  \n",
    "random.shuffle(trials)\n",
    "trials"
   ]
  },
  {
   "cell_type": "markdown",
   "id": "e13c518f",
   "metadata": {},
   "source": [
    "## Working with file systems"
   ]
  },
  {
   "cell_type": "code",
   "execution_count": 141,
   "id": "d56fa6fd",
   "metadata": {},
   "outputs": [],
   "source": [
    "import os"
   ]
  },
  {
   "cell_type": "code",
   "execution_count": 142,
   "id": "43c9d7a7",
   "metadata": {},
   "outputs": [
    {
     "data": {
      "text/plain": [
       "'/Users/jonahpearl/Documents/PiN/G2/Python bootcamp '"
      ]
     },
     "execution_count": 142,
     "metadata": {},
     "output_type": "execute_result"
    }
   ],
   "source": [
    "# Where are we?\n",
    "current_dir = os.getcwd()\n",
    "current_dir"
   ]
  },
  {
   "cell_type": "code",
   "execution_count": 143,
   "id": "25fbcba0",
   "metadata": {
    "scrolled": true
   },
   "outputs": [
    {
     "data": {
      "text/plain": [
       "['my_fig.png',\n",
       " 'python and numpy for matlab users.ipynb',\n",
       " 'tips and tricks.pptx',\n",
       " '.ipynb_checkpoints']"
      ]
     },
     "execution_count": 143,
     "metadata": {},
     "output_type": "execute_result"
    }
   ],
   "source": [
    "# See current folder's contents\n",
    "os.listdir(current_dir)"
   ]
  },
  {
   "cell_type": "code",
   "execution_count": 144,
   "id": "f1956e5a",
   "metadata": {},
   "outputs": [
    {
     "data": {
      "text/plain": [
       "['my_fig.png',\n",
       " 'python and numpy for matlab users.ipynb',\n",
       " 'tips and tricks.pptx',\n",
       " '.ipynb_checkpoints']"
      ]
     },
     "execution_count": 144,
     "metadata": {},
     "output_type": "execute_result"
    }
   ],
   "source": [
    "# (Also works with relative paths)\n",
    "os.listdir('.')"
   ]
  },
  {
   "cell_type": "code",
   "execution_count": 145,
   "id": "34991262",
   "metadata": {},
   "outputs": [
    {
     "data": {
      "text/plain": [
       "['readme.txt']"
      ]
     },
     "execution_count": 145,
     "metadata": {},
     "output_type": "execute_result"
    }
   ],
   "source": [
    "# (Also works with any absolute path)\n",
    "# (you should change this to a path that actually exists on your computer!)\n",
    "os.listdir('/Users/jonahpearl/Documents/Arduino/libraries/')"
   ]
  },
  {
   "cell_type": "code",
   "execution_count": 146,
   "id": "0ce73795",
   "metadata": {
    "scrolled": true
   },
   "outputs": [
    {
     "data": {
      "text/plain": [
       "['.ipynb_checkpoints']"
      ]
     },
     "execution_count": 146,
     "metadata": {},
     "output_type": "execute_result"
    }
   ],
   "source": [
    "# isdir can be very handy\n",
    "folders = [f for f in os.listdir() if os.path.isdir(f)]\n",
    "folders"
   ]
  },
  {
   "cell_type": "code",
   "execution_count": 147,
   "id": "f5b2ba6f",
   "metadata": {},
   "outputs": [
    {
     "data": {
      "text/plain": [
       "[]"
      ]
     },
     "execution_count": 147,
     "metadata": {},
     "output_type": "execute_result"
    }
   ],
   "source": [
    "# Can combine in many fun ways...\n",
    "g_folders = [f for f in os.listdir() if (os.path.isdir(f) and 'g' in f)]\n",
    "g_folders"
   ]
  },
  {
   "cell_type": "code",
   "execution_count": 148,
   "id": "195e23d4",
   "metadata": {},
   "outputs": [
    {
     "data": {
      "text/plain": [
       "['/Users/jonahpearl/Documents/PiN/G2/Python bootcamp /.ipynb_checkpoints']"
      ]
     },
     "execution_count": 148,
     "metadata": {},
     "output_type": "execute_result"
    }
   ],
   "source": [
    "# I recommend always using absolute paths to minimize confusion, unless saving temporary files / figures\n",
    "# abspath and join are great for this\n",
    "[os.path.abspath(f) for f in folders]"
   ]
  },
  {
   "cell_type": "code",
   "execution_count": 149,
   "id": "6e1f1c8c",
   "metadata": {},
   "outputs": [
    {
     "name": "stdout",
     "output_type": "stream",
     "text": [
      "/n/groups/datta/Jonah/Experiment/s1\n",
      "/n/groups/datta/Jonah/Experiment/s2\n"
     ]
    }
   ],
   "source": [
    "# Joining two parts of a path\n",
    "experiment_path = '/n/groups/datta/Jonah/Experiment'\n",
    "sessions = ['s1', 's2']\n",
    "for session in sessions:\n",
    "    data_path = os.path.join(experiment_path, session)\n",
    "    # load data, etc\n",
    "    print(data_path)"
   ]
  },
  {
   "cell_type": "code",
   "execution_count": 150,
   "id": "24c5301d",
   "metadata": {},
   "outputs": [],
   "source": [
    "# What's wrong with this idea?\n",
    "def get_path(my_server,my_experiment):\n",
    "    return my_server + '/' + my_experiment"
   ]
  },
  {
   "cell_type": "code",
   "execution_count": 151,
   "id": "3326f342",
   "metadata": {
    "scrolled": true
   },
   "outputs": [
    {
     "name": "stdout",
     "output_type": "stream",
     "text": [
      "/home/jop9552//Experiment1/raw_data\n"
     ]
    }
   ],
   "source": [
    "my_home = '/home/jop9552/'\n",
    "my_experiment = 'Experiment1/raw_data'\n",
    "print(get_path(my_home, my_experiment)) # Fails"
   ]
  },
  {
   "cell_type": "code",
   "execution_count": 153,
   "id": "c02e4112",
   "metadata": {},
   "outputs": [
    {
     "name": "stdout",
     "output_type": "stream",
     "text": [
      "C:\\Users\\jonahpearl/Experment1\\raw_data\n"
     ]
    }
   ],
   "source": [
    "my_windows_home = r'C:\\Users\\jonahpearl'\n",
    "my_experiment = r'Experment1\\raw_data'\n",
    "print(get_path(my_windows_home, my_experiment)) # Fails on Windows (can you see why?)"
   ]
  },
  {
   "cell_type": "code",
   "execution_count": 155,
   "id": "6d6d2f9e",
   "metadata": {},
   "outputs": [
    {
     "name": "stdout",
     "output_type": "stream",
     "text": [
      "/home/jop9552/Experiment1/raw_data\n"
     ]
    }
   ],
   "source": [
    "# Correct way\n",
    "my_server = '/home/jop9552/'\n",
    "my_experiment = 'Experiment1/raw_data'\n",
    "path = os.path.join(my_home, my_experiment)\n",
    "print(path)"
   ]
  },
  {
   "cell_type": "code",
   "execution_count": null,
   "id": "8071b1fc",
   "metadata": {},
   "outputs": [],
   "source": []
  },
  {
   "cell_type": "code",
   "execution_count": null,
   "id": "2570e05c",
   "metadata": {},
   "outputs": [],
   "source": []
  },
  {
   "cell_type": "code",
   "execution_count": null,
   "id": "a2aeadf8",
   "metadata": {},
   "outputs": [],
   "source": []
  },
  {
   "cell_type": "markdown",
   "id": "81d17f7e",
   "metadata": {},
   "source": [
    "## Answers to questions"
   ]
  },
  {
   "cell_type": "markdown",
   "id": "9ccf0ff3",
   "metadata": {},
   "source": [
    "### Q1\n",
    "There are at least three functions: `get_vote()`, `range()`, and `append()`. You could also count the \"%\" operator as a function; the symbol is actually masking a function which you can see below. Further, writing the variable name on the last line of the cell implicitly calls print() on the variable."
   ]
  },
  {
   "cell_type": "code",
   "execution_count": null,
   "id": "356466e9",
   "metadata": {},
   "outputs": [],
   "source": [
    "import operator  # a standard built-in Python module\n",
    "print(operator.mod)\n",
    "print(operator.mod(2,5))"
   ]
  },
  {
   "cell_type": "code",
   "execution_count": null,
   "id": "537d13b6",
   "metadata": {},
   "outputs": [],
   "source": [
    "x = 2\n",
    "x"
   ]
  },
  {
   "cell_type": "markdown",
   "id": "6d235e26",
   "metadata": {},
   "source": [
    "### Q2"
   ]
  },
  {
   "cell_type": "code",
   "execution_count": null,
   "id": "255ebd16",
   "metadata": {},
   "outputs": [],
   "source": [
    "student_grades = {'Jonah': {'SAT': 2200, 'LSAT': 180},\n",
    "                  'David': {'SAT': 2300, 'LSAT': 170},\n",
    "                  'Ella': {'SAT': 2400, 'LSAT': 160}}\n",
    "for i,student in enumerate(student_grades):\n",
    "    grade = student_grades[student]['SAT']\n",
    "    print(f'{student} is the {to_ordinal(i)} student and has an SAT grade of {grade}')\n",
    "    "
   ]
  },
  {
   "cell_type": "markdown",
   "id": "6777e368",
   "metadata": {},
   "source": [
    "### Q3"
   ]
  },
  {
   "cell_type": "markdown",
   "id": "45157861",
   "metadata": {},
   "source": [
    "On each loop iteration, the indexing values to my_vector look like:\n",
    "```\n",
    "my_vector[0:10]\n",
    "my_vector[10:20]\n",
    "...\n",
    "my_vector[90:100]\n",
    "```\n",
    "\n",
    "But `my_vector[100]` throws an error! Huh??\n",
    "\n",
    "Numpy (and most of Python) uses assymetric indexing: the lower number is inclusive, but the higher one is exclusive. So my_vector[90:100] really means \"values 90, 91, 92, ..., 99\". That's what allows the code to look so elegant! It's confusing at first, but once you learn to work with it, 95% of indexing cases just work like you expect them to.\n",
    "\n",
    "Here's another example from the creator of Python: \n",
    ">I was swayed by the elegance of half-open intervals. Especially when two slices are adjacent, [the fact that] the first slice's end index is the second slice's start index is just too beautiful to ignore. For example, suppose you split a string into three parts at indices i and j -- the parts would be a[:i], a[i:j], and a[j:].\n",
    ">"
   ]
  },
  {
   "cell_type": "code",
   "execution_count": 70,
   "id": "e964a4ac",
   "metadata": {},
   "outputs": [
    {
     "name": "stdout",
     "output_type": "stream",
     "text": [
      "how are you?\n"
     ]
    }
   ],
   "source": [
    "my_string = 'howareyou?'\n",
    "print(my_string[:3], my_string[3:6], my_string[6:])"
   ]
  },
  {
   "cell_type": "markdown",
   "id": "14362a72",
   "metadata": {},
   "source": [
    "### Q4"
   ]
  },
  {
   "cell_type": "code",
   "execution_count": null,
   "id": "fcd29556",
   "metadata": {
    "scrolled": true
   },
   "outputs": [],
   "source": [
    "# Generate some random data\n",
    "N = 2000\n",
    "data = np.random.random(size=N)\n",
    "data2 = np.random.normal(size=N)\n",
    "\n",
    "# Histogram\n",
    "plt.figure()\n",
    "plt.hist(data, label='uniform dist', histtype='step', density=True)\n",
    "plt.hist(data2, label='normal dist', histtype='step', density=True)\n",
    "plt.xlabel('Value')\n",
    "plt.ylabel('Probability density')\n",
    "plt.title('My data histograms')\n",
    "plt.legend()"
   ]
  },
  {
   "cell_type": "markdown",
   "id": "17bad0d6",
   "metadata": {},
   "source": [
    "## Q5"
   ]
  },
  {
   "cell_type": "code",
   "execution_count": 77,
   "id": "58d4eca8",
   "metadata": {},
   "outputs": [
    {
     "data": {
      "text/plain": [
       "array([[0.27884203, 0.59667068, 0.9127407 , 0.24224998, 0.14734861,\n",
       "        0.97535703, 0.68415987, 0.6187911 ],\n",
       "       [0.18196633, 0.37034018, 0.41587036, 0.19635986, 0.81215699,\n",
       "        0.33609366, 0.16733462, 0.66540392],\n",
       "       [0.72378923, 0.87256042, 0.90311658, 0.771151  , 0.38272812,\n",
       "        0.86051924, 0.65483469, 0.16513735],\n",
       "       [0.77792683, 0.55287237, 0.15740613, 0.99801123, 0.20463325,\n",
       "        0.5019474 , 0.9578231 , 0.65916227],\n",
       "       [0.28791773, 0.78403129, 0.08678713, 0.91291721, 0.45458303,\n",
       "        0.56006256, 0.43010799, 0.47288854],\n",
       "       [0.66172618, 0.04864265, 0.05359256, 0.51713639, 0.74579246,\n",
       "        0.18771353, 0.19872748, 0.11678463]])"
      ]
     },
     "execution_count": 77,
     "metadata": {},
     "output_type": "execute_result"
    }
   ],
   "source": [
    "\n",
    "# Generate the toy data\n",
    "n = 30\n",
    "data = np.random.random(size=(n,n))\n",
    "neuron_goodness = np.random.random(size=n)\n",
    "neuron_types = np.random.randint(low=0, high=3, size=n)\n",
    "brain_regions = np.random.randint(low=0, high=4, size=n)\n",
    "trial_categories = np.random.randint(low=0, high=3, size=n)  # again, high is exclusive, so will be 0, 1, or 2\n",
    "\n",
    "# Find all conditions as bools first\n",
    "goodness_bool = neuron_goodness > 0.5\n",
    "region_bool = brain_regions == 1\n",
    "types_bool = neuron_types == 0\n",
    "\n",
    "# Then use logical and with where\n",
    "desired_neurons = np.where(goodness_bool & region_bool & types_bool)[0]\n",
    "\n",
    "# Find desired trials\n",
    "trial_idx = np.where(trial_categories == 2)[0]\n",
    "\n",
    "\n",
    "# Extract the submatrix\n",
    "sub_matrix = data[np.ix_(neuron_idx, trial_idx)]\n",
    "sub_matrix"
   ]
  },
  {
   "cell_type": "code",
   "execution_count": 76,
   "id": "74637472",
   "metadata": {},
   "outputs": [
    {
     "data": {
      "text/plain": [
       "array([[0.84710527, 0.09146222, 0.28942284, 0.5976291 , 0.23400107,\n",
       "        0.34901002, 0.69362463, 0.72712712, 0.88840758, 0.19829256,\n",
       "        0.92612582],\n",
       "       [0.51714244, 0.53608926, 0.70537251, 0.09950136, 0.10339706,\n",
       "        0.20477666, 0.35515583, 0.44767917, 0.83505112, 0.56572501,\n",
       "        0.77500349],\n",
       "       [0.23907511, 0.56992901, 0.34486948, 0.95751257, 0.75882493,\n",
       "        0.43591481, 0.58164532, 0.32954201, 0.68709636, 0.35117284,\n",
       "        0.1419825 ],\n",
       "       [0.53474081, 0.59028756, 0.36078149, 0.2700787 , 0.97464554,\n",
       "        0.03981953, 0.94931124, 0.86590776, 0.2920978 , 0.46648148,\n",
       "        0.07702475],\n",
       "       [0.08242291, 0.99491214, 0.95193046, 0.39241256, 0.09468815,\n",
       "        0.29102794, 0.53455417, 0.74535553, 0.47250462, 0.2130102 ,\n",
       "        0.68129576],\n",
       "       [0.68943616, 0.70404044, 0.30301608, 0.94116577, 0.58529937,\n",
       "        0.94749812, 0.40454423, 0.0139228 , 0.64256239, 0.4167408 ,\n",
       "        0.6899589 ]])"
      ]
     },
     "execution_count": 76,
     "metadata": {},
     "output_type": "execute_result"
    }
   ],
   "source": [
    "# Alternative with sets\n",
    "n = 30\n",
    "data = np.random.random(size=(n,n))\n",
    "neuron_goodness = np.random.random(size=n)\n",
    "neuron_types = np.random.randint(low=0, high=3, size=n)\n",
    "brain_regions = np.random.randint(low=0, high=4, size=n)\n",
    "trial_categories = np.random.randint(low=0, high=3, size=n)  # again, high is exclusive, so will be 0, 1, or 2\n",
    "\n",
    "goodness_idx = np.where(neuron_goodness > 0.5)[0]\n",
    "region_idx = np.where(brain_regions == 1)[0]\n",
    "types_idx = np.where(neuron_types == 0)[0]\n",
    "\n",
    "# Use the set intersection operator (&) to find only values shared between the sets\n",
    "desired_neurons = set(goodness_idx) & set(region_idx) & set(types_idx)\n",
    "\n",
    "trial_idx = np.where(trial_categories == 2)[0]\n",
    "sub_matrix = data[np.ix_(neuron_idx, trial_idx)]\n",
    "sub_matrix"
   ]
  },
  {
   "cell_type": "code",
   "execution_count": null,
   "id": "96804071",
   "metadata": {},
   "outputs": [],
   "source": []
  }
 ],
 "metadata": {
  "kernelspec": {
   "display_name": "Python 3 (ipykernel)",
   "language": "python",
   "name": "python3"
  },
  "language_info": {
   "codemirror_mode": {
    "name": "ipython",
    "version": 3
   },
   "file_extension": ".py",
   "mimetype": "text/x-python",
   "name": "python",
   "nbconvert_exporter": "python",
   "pygments_lexer": "ipython3",
   "version": "3.9.7"
  }
 },
 "nbformat": 4,
 "nbformat_minor": 5
}
